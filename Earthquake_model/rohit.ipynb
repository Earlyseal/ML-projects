{
 "cells": [
  {
   "cell_type": "code",
   "execution_count": 42,
   "id": "d5b308d6",
   "metadata": {},
   "outputs": [
    {
     "name": "stdout",
     "output_type": "stream",
     "text": [
      "Requirement already satisfied: xgboost in c:\\users\\thaka\\anaconda3\\lib\\site-packages (1.7.5)\n",
      "Requirement already satisfied: scipy in c:\\users\\thaka\\anaconda3\\lib\\site-packages (from xgboost) (1.7.3)\n",
      "Requirement already satisfied: numpy in c:\\users\\thaka\\anaconda3\\lib\\site-packages (from xgboost) (1.21.5)\n"
     ]
    }
   ],
   "source": [
    "! pip install xgboost"
   ]
  },
  {
   "cell_type": "code",
   "execution_count": 43,
   "id": "c95fcdbe",
   "metadata": {},
   "outputs": [],
   "source": [
    "import pandas as pd\n",
    "import numpy as np\n",
    "import matplotlib.pyplot as plt\n",
    "from sklearn import preprocessing;\n",
    "from sklearn import model_selection;\n",
    "from sklearn import linear_model;\n",
    "from sklearn.model_selection import train_test_split\n",
    "from sqlalchemy import create_engine\n",
    "import xgboost as xgb\n",
    "import pandas as pd\n",
    "import sqlite3"
   ]
  },
  {
   "cell_type": "code",
   "execution_count": 44,
   "id": "105273c6",
   "metadata": {},
   "outputs": [],
   "source": [
    "import sqlite3\n",
    "\n",
    "# Create a SQL connection to our SQLite database\n",
    "con = sqlite3.connect(\"portal_mammals.sqlite\")\n",
    "\n",
    "cur = con.cursor()\n",
    "\n",
    "# The result of a \"cursor.execute\" can be iterated over by row\n",
    "for row in cur.execute(''):\n",
    "    print(row)\n",
    "\n",
    "# Be sure to close the connection\n",
    "con.close()"
   ]
  },
  {
   "cell_type": "code",
   "execution_count": 46,
   "id": "95d1cd73",
   "metadata": {
    "scrolled": false
   },
   "outputs": [],
   "source": [
    "engine =create_engine('sqlite:///Earthquakedata.db')\n",
    "df_features = pd.read_sql_table('Earthquake_features',con=engine)"
   ]
  },
  {
   "cell_type": "code",
   "execution_count": null,
   "id": "5e0ad2de",
   "metadata": {},
   "outputs": [
    {
     "data": {
      "text/html": [
       "<div>\n",
       "<style scoped>\n",
       "    .dataframe tbody tr th:only-of-type {\n",
       "        vertical-align: middle;\n",
       "    }\n",
       "\n",
       "    .dataframe tbody tr th {\n",
       "        vertical-align: top;\n",
       "    }\n",
       "\n",
       "    .dataframe thead th {\n",
       "        text-align: right;\n",
       "    }\n",
       "</style>\n",
       "<table border=\"1\" class=\"dataframe\">\n",
       "  <thead>\n",
       "    <tr style=\"text-align: right;\">\n",
       "      <th></th>\n",
       "      <th>date</th>\n",
       "      <th>depth</th>\n",
       "      <th>mag</th>\n",
       "      <th>place</th>\n",
       "      <th>latitude</th>\n",
       "      <th>longitude</th>\n",
       "      <th>depth_avg_22</th>\n",
       "      <th>depth_avg_15</th>\n",
       "      <th>depth_avg_7</th>\n",
       "      <th>mag_avg_22</th>\n",
       "      <th>mag_avg_15</th>\n",
       "      <th>mag_avg_7</th>\n",
       "      <th>mag_outcome</th>\n",
       "    </tr>\n",
       "  </thead>\n",
       "  <tbody>\n",
       "    <tr>\n",
       "      <th>0</th>\n",
       "      <td>2020-07-27</td>\n",
       "      <td>76.37</td>\n",
       "      <td>4.2</td>\n",
       "      <td>Papua New Guinea</td>\n",
       "      <td>-5.297074</td>\n",
       "      <td>148.894953</td>\n",
       "      <td>63.765909</td>\n",
       "      <td>67.072000</td>\n",
       "      <td>79.460000</td>\n",
       "      <td>4.550000</td>\n",
       "      <td>4.573333</td>\n",
       "      <td>4.500000</td>\n",
       "      <td>1</td>\n",
       "    </tr>\n",
       "    <tr>\n",
       "      <th>1</th>\n",
       "      <td>2020-07-28</td>\n",
       "      <td>88.76</td>\n",
       "      <td>4.3</td>\n",
       "      <td>Papua New Guinea</td>\n",
       "      <td>-5.297074</td>\n",
       "      <td>148.894953</td>\n",
       "      <td>61.451364</td>\n",
       "      <td>67.670000</td>\n",
       "      <td>78.664286</td>\n",
       "      <td>4.540909</td>\n",
       "      <td>4.393333</td>\n",
       "      <td>4.485714</td>\n",
       "      <td>1</td>\n",
       "    </tr>\n",
       "    <tr>\n",
       "      <th>2</th>\n",
       "      <td>2020-07-29</td>\n",
       "      <td>83.01</td>\n",
       "      <td>4.4</td>\n",
       "      <td>Papua New Guinea</td>\n",
       "      <td>-5.297074</td>\n",
       "      <td>148.894953</td>\n",
       "      <td>64.770000</td>\n",
       "      <td>66.487333</td>\n",
       "      <td>86.885714</td>\n",
       "      <td>4.545455</td>\n",
       "      <td>4.366667</td>\n",
       "      <td>4.485714</td>\n",
       "      <td>1</td>\n",
       "    </tr>\n",
       "    <tr>\n",
       "      <th>3</th>\n",
       "      <td>2020-07-30</td>\n",
       "      <td>10.00</td>\n",
       "      <td>4.9</td>\n",
       "      <td>Papua New Guinea</td>\n",
       "      <td>-5.297074</td>\n",
       "      <td>148.894953</td>\n",
       "      <td>64.770000</td>\n",
       "      <td>64.040000</td>\n",
       "      <td>85.245714</td>\n",
       "      <td>4.545455</td>\n",
       "      <td>4.426667</td>\n",
       "      <td>4.571429</td>\n",
       "      <td>1</td>\n",
       "    </tr>\n",
       "    <tr>\n",
       "      <th>4</th>\n",
       "      <td>2020-07-31</td>\n",
       "      <td>195.88</td>\n",
       "      <td>4.3</td>\n",
       "      <td>Papua New Guinea</td>\n",
       "      <td>-5.297074</td>\n",
       "      <td>148.894953</td>\n",
       "      <td>73.219091</td>\n",
       "      <td>75.197333</td>\n",
       "      <td>102.524286</td>\n",
       "      <td>4.531818</td>\n",
       "      <td>4.426667</td>\n",
       "      <td>4.500000</td>\n",
       "      <td>1</td>\n",
       "    </tr>\n",
       "  </tbody>\n",
       "</table>\n",
       "</div>"
      ],
      "text/plain": [
       "         date   depth  mag             place  latitude   longitude  \\\n",
       "0  2020-07-27   76.37  4.2  Papua New Guinea -5.297074  148.894953   \n",
       "1  2020-07-28   88.76  4.3  Papua New Guinea -5.297074  148.894953   \n",
       "2  2020-07-29   83.01  4.4  Papua New Guinea -5.297074  148.894953   \n",
       "3  2020-07-30   10.00  4.9  Papua New Guinea -5.297074  148.894953   \n",
       "4  2020-07-31  195.88  4.3  Papua New Guinea -5.297074  148.894953   \n",
       "\n",
       "   depth_avg_22  depth_avg_15  depth_avg_7  mag_avg_22  mag_avg_15  mag_avg_7  \\\n",
       "0     63.765909     67.072000    79.460000    4.550000    4.573333   4.500000   \n",
       "1     61.451364     67.670000    78.664286    4.540909    4.393333   4.485714   \n",
       "2     64.770000     66.487333    86.885714    4.545455    4.366667   4.485714   \n",
       "3     64.770000     64.040000    85.245714    4.545455    4.426667   4.571429   \n",
       "4     73.219091     75.197333   102.524286    4.531818    4.426667   4.500000   \n",
       "\n",
       "   mag_outcome  \n",
       "0            1  \n",
       "1            1  \n",
       "2            1  \n",
       "3            1  \n",
       "4            1  "
      ]
     },
     "execution_count": 6,
     "metadata": {},
     "output_type": "execute_result"
    }
   ],
   "source": [
    "df_features.head()"
   ]
  },
  {
   "cell_type": "code",
   "execution_count": null,
   "id": "812b734d",
   "metadata": {},
   "outputs": [],
   "source": [
    "engine =create_engine('sqlite:///Earthquakedata_predict.db')\n",
    "df_predict = pd.read_sql_table('Earthquake_predict',con=engine)"
   ]
  },
  {
   "cell_type": "code",
   "execution_count": null,
   "id": "6f1a231b",
   "metadata": {},
   "outputs": [
    {
     "data": {
      "text/html": [
       "<div>\n",
       "<style scoped>\n",
       "    .dataframe tbody tr th:only-of-type {\n",
       "        vertical-align: middle;\n",
       "    }\n",
       "\n",
       "    .dataframe tbody tr th {\n",
       "        vertical-align: top;\n",
       "    }\n",
       "\n",
       "    .dataframe thead th {\n",
       "        text-align: right;\n",
       "    }\n",
       "</style>\n",
       "<table border=\"1\" class=\"dataframe\">\n",
       "  <thead>\n",
       "    <tr style=\"text-align: right;\">\n",
       "      <th></th>\n",
       "      <th>date</th>\n",
       "      <th>depth</th>\n",
       "      <th>mag</th>\n",
       "      <th>place</th>\n",
       "      <th>latitude</th>\n",
       "      <th>longitude</th>\n",
       "      <th>depth_avg_22</th>\n",
       "      <th>depth_avg_15</th>\n",
       "      <th>depth_avg_7</th>\n",
       "      <th>mag_avg_22</th>\n",
       "      <th>mag_avg_15</th>\n",
       "      <th>mag_avg_7</th>\n",
       "      <th>mag_outcome</th>\n",
       "    </tr>\n",
       "  </thead>\n",
       "  <tbody>\n",
       "    <tr>\n",
       "      <th>0</th>\n",
       "      <td>2020-08-03</td>\n",
       "      <td>140.81</td>\n",
       "      <td>4.4</td>\n",
       "      <td>Papua New Guinea</td>\n",
       "      <td>-5.297074</td>\n",
       "      <td>148.894953</td>\n",
       "      <td>73.251364</td>\n",
       "      <td>70.354000</td>\n",
       "      <td>83.355714</td>\n",
       "      <td>4.718182</td>\n",
       "      <td>4.820000</td>\n",
       "      <td>4.942857</td>\n",
       "      <td>NaN</td>\n",
       "    </tr>\n",
       "    <tr>\n",
       "      <th>1</th>\n",
       "      <td>2020-08-04</td>\n",
       "      <td>172.48</td>\n",
       "      <td>5.4</td>\n",
       "      <td>Papua New Guinea</td>\n",
       "      <td>-5.297074</td>\n",
       "      <td>148.894953</td>\n",
       "      <td>76.803636</td>\n",
       "      <td>75.935333</td>\n",
       "      <td>106.567143</td>\n",
       "      <td>4.763636</td>\n",
       "      <td>4.893333</td>\n",
       "      <td>4.857143</td>\n",
       "      <td>NaN</td>\n",
       "    </tr>\n",
       "    <tr>\n",
       "      <th>2</th>\n",
       "      <td>2020-08-05</td>\n",
       "      <td>94.65</td>\n",
       "      <td>5.0</td>\n",
       "      <td>Papua New Guinea</td>\n",
       "      <td>-5.297074</td>\n",
       "      <td>148.894953</td>\n",
       "      <td>79.948636</td>\n",
       "      <td>76.711333</td>\n",
       "      <td>105.600000</td>\n",
       "      <td>4.790909</td>\n",
       "      <td>4.933333</td>\n",
       "      <td>4.971429</td>\n",
       "      <td>NaN</td>\n",
       "    </tr>\n",
       "    <tr>\n",
       "      <th>3</th>\n",
       "      <td>2020-08-06</td>\n",
       "      <td>196.24</td>\n",
       "      <td>4.8</td>\n",
       "      <td>Papua New Guinea</td>\n",
       "      <td>-5.297074</td>\n",
       "      <td>148.894953</td>\n",
       "      <td>87.892273</td>\n",
       "      <td>89.127333</td>\n",
       "      <td>113.395714</td>\n",
       "      <td>4.813636</td>\n",
       "      <td>4.926667</td>\n",
       "      <td>5.071429</td>\n",
       "      <td>NaN</td>\n",
       "    </tr>\n",
       "    <tr>\n",
       "      <th>4</th>\n",
       "      <td>2020-08-06</td>\n",
       "      <td>85.48</td>\n",
       "      <td>4.7</td>\n",
       "      <td>Papua New Guinea</td>\n",
       "      <td>-5.297074</td>\n",
       "      <td>148.894953</td>\n",
       "      <td>88.371818</td>\n",
       "      <td>81.767333</td>\n",
       "      <td>124.178571</td>\n",
       "      <td>4.809091</td>\n",
       "      <td>4.953333</td>\n",
       "      <td>4.914286</td>\n",
       "      <td>NaN</td>\n",
       "    </tr>\n",
       "  </tbody>\n",
       "</table>\n",
       "</div>"
      ],
      "text/plain": [
       "         date   depth  mag             place  latitude   longitude  \\\n",
       "0  2020-08-03  140.81  4.4  Papua New Guinea -5.297074  148.894953   \n",
       "1  2020-08-04  172.48  5.4  Papua New Guinea -5.297074  148.894953   \n",
       "2  2020-08-05   94.65  5.0  Papua New Guinea -5.297074  148.894953   \n",
       "3  2020-08-06  196.24  4.8  Papua New Guinea -5.297074  148.894953   \n",
       "4  2020-08-06   85.48  4.7  Papua New Guinea -5.297074  148.894953   \n",
       "\n",
       "   depth_avg_22  depth_avg_15  depth_avg_7  mag_avg_22  mag_avg_15  mag_avg_7  \\\n",
       "0     73.251364     70.354000    83.355714    4.718182    4.820000   4.942857   \n",
       "1     76.803636     75.935333   106.567143    4.763636    4.893333   4.857143   \n",
       "2     79.948636     76.711333   105.600000    4.790909    4.933333   4.971429   \n",
       "3     87.892273     89.127333   113.395714    4.813636    4.926667   5.071429   \n",
       "4     88.371818     81.767333   124.178571    4.809091    4.953333   4.914286   \n",
       "\n",
       "   mag_outcome  \n",
       "0          NaN  \n",
       "1          NaN  \n",
       "2          NaN  \n",
       "3          NaN  \n",
       "4          NaN  "
      ]
     },
     "execution_count": 8,
     "metadata": {},
     "output_type": "execute_result"
    }
   ],
   "source": [
    "# Live data to be predicted on after being trained of rolling period for next 7 days. \n",
    "#Hence NaN outcome that has to be predicted\n",
    "\n",
    "df_predict.head()"
   ]
  },
  {
   "cell_type": "code",
   "execution_count": null,
   "id": "431fa542",
   "metadata": {},
   "outputs": [],
   "source": [
    "# Selection of features that are needed for prediction and hence consider only them rest are just ignored for prediction purpose.\n",
    "\n",
    "features = [f for f in list(df_features) if f not in ['date', 'lon_box_mean',\n",
    " 'lat_box_mean', 'mag_outcome', 'mag', 'place',\n",
    " 'combo_box_mean',  'latitude',\n",
    " 'longitude']]\n",
    "\n",
    "# splitting training and testing dataset with trainging size = 70% and test = 30%\n",
    "X_train, X_test, y_train, y_test = train_test_split(df_features[features],\n",
    "                     df_features['mag_outcome'], test_size=0.3, random_state=42)"
   ]
  },
  {
   "cell_type": "code",
   "execution_count": null,
   "id": "38c42334",
   "metadata": {},
   "outputs": [
    {
     "data": {
      "text/plain": [
       "['depth',\n",
       " 'depth_avg_22',\n",
       " 'depth_avg_15',\n",
       " 'depth_avg_7',\n",
       " 'mag_avg_22',\n",
       " 'mag_avg_15',\n",
       " 'mag_avg_7']"
      ]
     },
     "execution_count": 10,
     "metadata": {},
     "output_type": "execute_result"
    }
   ],
   "source": [
    "features"
   ]
  },
  {
   "cell_type": "code",
   "execution_count": null,
   "id": "892e4eb2",
   "metadata": {},
   "outputs": [],
   "source": [
    "from sklearn.ensemble import RandomForestClassifier\n",
    "from sklearn.ensemble import AdaBoostClassifier\n",
    "from sklearn.tree import DecisionTreeClassifier\n",
    "from sklearn.model_selection import GridSearchCV\n",
    "\n",
    "param_grid = {\n",
    "              \"base_estimator__max_depth\" :   [2,5,7],\n",
    "              \"n_estimators\": [200, 400, 600]\n",
    "             }\n",
    "\n",
    "# base estimator\n",
    "tree = DecisionTreeClassifier()\n",
    "\n",
    "# adaboost with the tree as base estimator\n",
    "# learning rate is arbitrarily set to 0.6,\n",
    "ABC = AdaBoostClassifier(\n",
    "    base_estimator=tree,\n",
    "    learning_rate=0.6,\n",
    "    algorithm=\"SAMME\")"
   ]
  },
  {
   "cell_type": "code",
   "execution_count": null,
   "id": "1efa8d04",
   "metadata": {},
   "outputs": [],
   "source": [
    "# run grid search\n",
    "grid_search_ABC = GridSearchCV(ABC,\n",
    "                               param_grid=param_grid, \n",
    "                               scoring = 'roc_auc', \n",
    "                               return_train_score=True,                         \n",
    "                               verbose = 1)"
   ]
  },
  {
   "cell_type": "code",
   "execution_count": null,
   "id": "7e555941",
   "metadata": {},
   "outputs": [
    {
     "name": "stdout",
     "output_type": "stream",
     "text": [
      "Fitting 5 folds for each of 9 candidates, totalling 45 fits\n"
     ]
    },
    {
     "name": "stderr",
     "output_type": "stream",
     "text": [
      "c:\\Users\\thaka\\anaconda3\\lib\\site-packages\\sklearn\\utils\\validation.py:1688: FutureWarning: Feature names only support names that are all strings. Got feature names with dtypes: ['quoted_name']. An error will be raised in 1.2.\n",
      "  warnings.warn(\n",
      "c:\\Users\\thaka\\anaconda3\\lib\\site-packages\\sklearn\\utils\\validation.py:1688: FutureWarning: Feature names only support names that are all strings. Got feature names with dtypes: ['quoted_name']. An error will be raised in 1.2.\n",
      "  warnings.warn(\n",
      "c:\\Users\\thaka\\anaconda3\\lib\\site-packages\\sklearn\\utils\\validation.py:1688: FutureWarning: Feature names only support names that are all strings. Got feature names with dtypes: ['quoted_name']. An error will be raised in 1.2.\n",
      "  warnings.warn(\n",
      "c:\\Users\\thaka\\anaconda3\\lib\\site-packages\\sklearn\\utils\\validation.py:1688: FutureWarning: Feature names only support names that are all strings. Got feature names with dtypes: ['quoted_name']. An error will be raised in 1.2.\n",
      "  warnings.warn(\n",
      "c:\\Users\\thaka\\anaconda3\\lib\\site-packages\\sklearn\\utils\\validation.py:1688: FutureWarning: Feature names only support names that are all strings. Got feature names with dtypes: ['quoted_name']. An error will be raised in 1.2.\n",
      "  warnings.warn(\n",
      "c:\\Users\\thaka\\anaconda3\\lib\\site-packages\\sklearn\\utils\\validation.py:1688: FutureWarning: Feature names only support names that are all strings. Got feature names with dtypes: ['quoted_name']. An error will be raised in 1.2.\n",
      "  warnings.warn(\n",
      "c:\\Users\\thaka\\anaconda3\\lib\\site-packages\\sklearn\\utils\\validation.py:1688: FutureWarning: Feature names only support names that are all strings. Got feature names with dtypes: ['quoted_name']. An error will be raised in 1.2.\n",
      "  warnings.warn(\n",
      "c:\\Users\\thaka\\anaconda3\\lib\\site-packages\\sklearn\\utils\\validation.py:1688: FutureWarning: Feature names only support names that are all strings. Got feature names with dtypes: ['quoted_name']. An error will be raised in 1.2.\n",
      "  warnings.warn(\n",
      "c:\\Users\\thaka\\anaconda3\\lib\\site-packages\\sklearn\\utils\\validation.py:1688: FutureWarning: Feature names only support names that are all strings. Got feature names with dtypes: ['quoted_name']. An error will be raised in 1.2.\n",
      "  warnings.warn(\n",
      "c:\\Users\\thaka\\anaconda3\\lib\\site-packages\\sklearn\\utils\\validation.py:1688: FutureWarning: Feature names only support names that are all strings. Got feature names with dtypes: ['quoted_name']. An error will be raised in 1.2.\n",
      "  warnings.warn(\n",
      "c:\\Users\\thaka\\anaconda3\\lib\\site-packages\\sklearn\\utils\\validation.py:1688: FutureWarning: Feature names only support names that are all strings. Got feature names with dtypes: ['quoted_name']. An error will be raised in 1.2.\n",
      "  warnings.warn(\n",
      "c:\\Users\\thaka\\anaconda3\\lib\\site-packages\\sklearn\\utils\\validation.py:1688: FutureWarning: Feature names only support names that are all strings. Got feature names with dtypes: ['quoted_name']. An error will be raised in 1.2.\n",
      "  warnings.warn(\n",
      "c:\\Users\\thaka\\anaconda3\\lib\\site-packages\\sklearn\\utils\\validation.py:1688: FutureWarning: Feature names only support names that are all strings. Got feature names with dtypes: ['quoted_name']. An error will be raised in 1.2.\n",
      "  warnings.warn(\n",
      "c:\\Users\\thaka\\anaconda3\\lib\\site-packages\\sklearn\\utils\\validation.py:1688: FutureWarning: Feature names only support names that are all strings. Got feature names with dtypes: ['quoted_name']. An error will be raised in 1.2.\n",
      "  warnings.warn(\n",
      "c:\\Users\\thaka\\anaconda3\\lib\\site-packages\\sklearn\\utils\\validation.py:1688: FutureWarning: Feature names only support names that are all strings. Got feature names with dtypes: ['quoted_name']. An error will be raised in 1.2.\n",
      "  warnings.warn(\n",
      "c:\\Users\\thaka\\anaconda3\\lib\\site-packages\\sklearn\\utils\\validation.py:1688: FutureWarning: Feature names only support names that are all strings. Got feature names with dtypes: ['quoted_name']. An error will be raised in 1.2.\n",
      "  warnings.warn(\n",
      "c:\\Users\\thaka\\anaconda3\\lib\\site-packages\\sklearn\\utils\\validation.py:1688: FutureWarning: Feature names only support names that are all strings. Got feature names with dtypes: ['quoted_name']. An error will be raised in 1.2.\n",
      "  warnings.warn(\n",
      "c:\\Users\\thaka\\anaconda3\\lib\\site-packages\\sklearn\\utils\\validation.py:1688: FutureWarning: Feature names only support names that are all strings. Got feature names with dtypes: ['quoted_name']. An error will be raised in 1.2.\n",
      "  warnings.warn(\n",
      "c:\\Users\\thaka\\anaconda3\\lib\\site-packages\\sklearn\\utils\\validation.py:1688: FutureWarning: Feature names only support names that are all strings. Got feature names with dtypes: ['quoted_name']. An error will be raised in 1.2.\n",
      "  warnings.warn(\n",
      "c:\\Users\\thaka\\anaconda3\\lib\\site-packages\\sklearn\\utils\\validation.py:1688: FutureWarning: Feature names only support names that are all strings. Got feature names with dtypes: ['quoted_name']. An error will be raised in 1.2.\n",
      "  warnings.warn(\n",
      "c:\\Users\\thaka\\anaconda3\\lib\\site-packages\\sklearn\\utils\\validation.py:1688: FutureWarning: Feature names only support names that are all strings. Got feature names with dtypes: ['quoted_name']. An error will be raised in 1.2.\n",
      "  warnings.warn(\n",
      "c:\\Users\\thaka\\anaconda3\\lib\\site-packages\\sklearn\\utils\\validation.py:1688: FutureWarning: Feature names only support names that are all strings. Got feature names with dtypes: ['quoted_name']. An error will be raised in 1.2.\n",
      "  warnings.warn(\n",
      "c:\\Users\\thaka\\anaconda3\\lib\\site-packages\\sklearn\\utils\\validation.py:1688: FutureWarning: Feature names only support names that are all strings. Got feature names with dtypes: ['quoted_name']. An error will be raised in 1.2.\n",
      "  warnings.warn(\n",
      "c:\\Users\\thaka\\anaconda3\\lib\\site-packages\\sklearn\\utils\\validation.py:1688: FutureWarning: Feature names only support names that are all strings. Got feature names with dtypes: ['quoted_name']. An error will be raised in 1.2.\n",
      "  warnings.warn(\n",
      "c:\\Users\\thaka\\anaconda3\\lib\\site-packages\\sklearn\\utils\\validation.py:1688: FutureWarning: Feature names only support names that are all strings. Got feature names with dtypes: ['quoted_name']. An error will be raised in 1.2.\n",
      "  warnings.warn(\n",
      "c:\\Users\\thaka\\anaconda3\\lib\\site-packages\\sklearn\\utils\\validation.py:1688: FutureWarning: Feature names only support names that are all strings. Got feature names with dtypes: ['quoted_name']. An error will be raised in 1.2.\n",
      "  warnings.warn(\n",
      "c:\\Users\\thaka\\anaconda3\\lib\\site-packages\\sklearn\\utils\\validation.py:1688: FutureWarning: Feature names only support names that are all strings. Got feature names with dtypes: ['quoted_name']. An error will be raised in 1.2.\n",
      "  warnings.warn(\n",
      "c:\\Users\\thaka\\anaconda3\\lib\\site-packages\\sklearn\\utils\\validation.py:1688: FutureWarning: Feature names only support names that are all strings. Got feature names with dtypes: ['quoted_name']. An error will be raised in 1.2.\n",
      "  warnings.warn(\n",
      "c:\\Users\\thaka\\anaconda3\\lib\\site-packages\\sklearn\\utils\\validation.py:1688: FutureWarning: Feature names only support names that are all strings. Got feature names with dtypes: ['quoted_name']. An error will be raised in 1.2.\n",
      "  warnings.warn(\n",
      "c:\\Users\\thaka\\anaconda3\\lib\\site-packages\\sklearn\\utils\\validation.py:1688: FutureWarning: Feature names only support names that are all strings. Got feature names with dtypes: ['quoted_name']. An error will be raised in 1.2.\n",
      "  warnings.warn(\n",
      "c:\\Users\\thaka\\anaconda3\\lib\\site-packages\\sklearn\\utils\\validation.py:1688: FutureWarning: Feature names only support names that are all strings. Got feature names with dtypes: ['quoted_name']. An error will be raised in 1.2.\n",
      "  warnings.warn(\n",
      "c:\\Users\\thaka\\anaconda3\\lib\\site-packages\\sklearn\\utils\\validation.py:1688: FutureWarning: Feature names only support names that are all strings. Got feature names with dtypes: ['quoted_name']. An error will be raised in 1.2.\n",
      "  warnings.warn(\n",
      "c:\\Users\\thaka\\anaconda3\\lib\\site-packages\\sklearn\\utils\\validation.py:1688: FutureWarning: Feature names only support names that are all strings. Got feature names with dtypes: ['quoted_name']. An error will be raised in 1.2.\n",
      "  warnings.warn(\n",
      "c:\\Users\\thaka\\anaconda3\\lib\\site-packages\\sklearn\\utils\\validation.py:1688: FutureWarning: Feature names only support names that are all strings. Got feature names with dtypes: ['quoted_name']. An error will be raised in 1.2.\n",
      "  warnings.warn(\n",
      "c:\\Users\\thaka\\anaconda3\\lib\\site-packages\\sklearn\\utils\\validation.py:1688: FutureWarning: Feature names only support names that are all strings. Got feature names with dtypes: ['quoted_name']. An error will be raised in 1.2.\n",
      "  warnings.warn(\n",
      "c:\\Users\\thaka\\anaconda3\\lib\\site-packages\\sklearn\\utils\\validation.py:1688: FutureWarning: Feature names only support names that are all strings. Got feature names with dtypes: ['quoted_name']. An error will be raised in 1.2.\n",
      "  warnings.warn(\n",
      "c:\\Users\\thaka\\anaconda3\\lib\\site-packages\\sklearn\\utils\\validation.py:1688: FutureWarning: Feature names only support names that are all strings. Got feature names with dtypes: ['quoted_name']. An error will be raised in 1.2.\n",
      "  warnings.warn(\n",
      "c:\\Users\\thaka\\anaconda3\\lib\\site-packages\\sklearn\\utils\\validation.py:1688: FutureWarning: Feature names only support names that are all strings. Got feature names with dtypes: ['quoted_name']. An error will be raised in 1.2.\n",
      "  warnings.warn(\n",
      "c:\\Users\\thaka\\anaconda3\\lib\\site-packages\\sklearn\\utils\\validation.py:1688: FutureWarning: Feature names only support names that are all strings. Got feature names with dtypes: ['quoted_name']. An error will be raised in 1.2.\n",
      "  warnings.warn(\n",
      "c:\\Users\\thaka\\anaconda3\\lib\\site-packages\\sklearn\\utils\\validation.py:1688: FutureWarning: Feature names only support names that are all strings. Got feature names with dtypes: ['quoted_name']. An error will be raised in 1.2.\n",
      "  warnings.warn(\n",
      "c:\\Users\\thaka\\anaconda3\\lib\\site-packages\\sklearn\\utils\\validation.py:1688: FutureWarning: Feature names only support names that are all strings. Got feature names with dtypes: ['quoted_name']. An error will be raised in 1.2.\n",
      "  warnings.warn(\n",
      "c:\\Users\\thaka\\anaconda3\\lib\\site-packages\\sklearn\\utils\\validation.py:1688: FutureWarning: Feature names only support names that are all strings. Got feature names with dtypes: ['quoted_name']. An error will be raised in 1.2.\n",
      "  warnings.warn(\n",
      "c:\\Users\\thaka\\anaconda3\\lib\\site-packages\\sklearn\\utils\\validation.py:1688: FutureWarning: Feature names only support names that are all strings. Got feature names with dtypes: ['quoted_name']. An error will be raised in 1.2.\n",
      "  warnings.warn(\n",
      "c:\\Users\\thaka\\anaconda3\\lib\\site-packages\\sklearn\\utils\\validation.py:1688: FutureWarning: Feature names only support names that are all strings. Got feature names with dtypes: ['quoted_name']. An error will be raised in 1.2.\n",
      "  warnings.warn(\n",
      "c:\\Users\\thaka\\anaconda3\\lib\\site-packages\\sklearn\\utils\\validation.py:1688: FutureWarning: Feature names only support names that are all strings. Got feature names with dtypes: ['quoted_name']. An error will be raised in 1.2.\n",
      "  warnings.warn(\n",
      "c:\\Users\\thaka\\anaconda3\\lib\\site-packages\\sklearn\\utils\\validation.py:1688: FutureWarning: Feature names only support names that are all strings. Got feature names with dtypes: ['quoted_name']. An error will be raised in 1.2.\n",
      "  warnings.warn(\n",
      "c:\\Users\\thaka\\anaconda3\\lib\\site-packages\\sklearn\\utils\\validation.py:1688: FutureWarning: Feature names only support names that are all strings. Got feature names with dtypes: ['quoted_name']. An error will be raised in 1.2.\n",
      "  warnings.warn(\n",
      "c:\\Users\\thaka\\anaconda3\\lib\\site-packages\\sklearn\\utils\\validation.py:1688: FutureWarning: Feature names only support names that are all strings. Got feature names with dtypes: ['quoted_name']. An error will be raised in 1.2.\n",
      "  warnings.warn(\n",
      "c:\\Users\\thaka\\anaconda3\\lib\\site-packages\\sklearn\\utils\\validation.py:1688: FutureWarning: Feature names only support names that are all strings. Got feature names with dtypes: ['quoted_name']. An error will be raised in 1.2.\n",
      "  warnings.warn(\n",
      "c:\\Users\\thaka\\anaconda3\\lib\\site-packages\\sklearn\\utils\\validation.py:1688: FutureWarning: Feature names only support names that are all strings. Got feature names with dtypes: ['quoted_name']. An error will be raised in 1.2.\n",
      "  warnings.warn(\n",
      "c:\\Users\\thaka\\anaconda3\\lib\\site-packages\\sklearn\\utils\\validation.py:1688: FutureWarning: Feature names only support names that are all strings. Got feature names with dtypes: ['quoted_name']. An error will be raised in 1.2.\n",
      "  warnings.warn(\n",
      "c:\\Users\\thaka\\anaconda3\\lib\\site-packages\\sklearn\\utils\\validation.py:1688: FutureWarning: Feature names only support names that are all strings. Got feature names with dtypes: ['quoted_name']. An error will be raised in 1.2.\n",
      "  warnings.warn(\n",
      "c:\\Users\\thaka\\anaconda3\\lib\\site-packages\\sklearn\\utils\\validation.py:1688: FutureWarning: Feature names only support names that are all strings. Got feature names with dtypes: ['quoted_name']. An error will be raised in 1.2.\n",
      "  warnings.warn(\n",
      "c:\\Users\\thaka\\anaconda3\\lib\\site-packages\\sklearn\\utils\\validation.py:1688: FutureWarning: Feature names only support names that are all strings. Got feature names with dtypes: ['quoted_name']. An error will be raised in 1.2.\n",
      "  warnings.warn(\n",
      "c:\\Users\\thaka\\anaconda3\\lib\\site-packages\\sklearn\\utils\\validation.py:1688: FutureWarning: Feature names only support names that are all strings. Got feature names with dtypes: ['quoted_name']. An error will be raised in 1.2.\n",
      "  warnings.warn(\n",
      "c:\\Users\\thaka\\anaconda3\\lib\\site-packages\\sklearn\\utils\\validation.py:1688: FutureWarning: Feature names only support names that are all strings. Got feature names with dtypes: ['quoted_name']. An error will be raised in 1.2.\n",
      "  warnings.warn(\n",
      "c:\\Users\\thaka\\anaconda3\\lib\\site-packages\\sklearn\\utils\\validation.py:1688: FutureWarning: Feature names only support names that are all strings. Got feature names with dtypes: ['quoted_name']. An error will be raised in 1.2.\n",
      "  warnings.warn(\n",
      "c:\\Users\\thaka\\anaconda3\\lib\\site-packages\\sklearn\\utils\\validation.py:1688: FutureWarning: Feature names only support names that are all strings. Got feature names with dtypes: ['quoted_name']. An error will be raised in 1.2.\n",
      "  warnings.warn(\n",
      "c:\\Users\\thaka\\anaconda3\\lib\\site-packages\\sklearn\\utils\\validation.py:1688: FutureWarning: Feature names only support names that are all strings. Got feature names with dtypes: ['quoted_name']. An error will be raised in 1.2.\n",
      "  warnings.warn(\n",
      "c:\\Users\\thaka\\anaconda3\\lib\\site-packages\\sklearn\\utils\\validation.py:1688: FutureWarning: Feature names only support names that are all strings. Got feature names with dtypes: ['quoted_name']. An error will be raised in 1.2.\n",
      "  warnings.warn(\n",
      "c:\\Users\\thaka\\anaconda3\\lib\\site-packages\\sklearn\\utils\\validation.py:1688: FutureWarning: Feature names only support names that are all strings. Got feature names with dtypes: ['quoted_name']. An error will be raised in 1.2.\n",
      "  warnings.warn(\n",
      "c:\\Users\\thaka\\anaconda3\\lib\\site-packages\\sklearn\\utils\\validation.py:1688: FutureWarning: Feature names only support names that are all strings. Got feature names with dtypes: ['quoted_name']. An error will be raised in 1.2.\n",
      "  warnings.warn(\n",
      "c:\\Users\\thaka\\anaconda3\\lib\\site-packages\\sklearn\\utils\\validation.py:1688: FutureWarning: Feature names only support names that are all strings. Got feature names with dtypes: ['quoted_name']. An error will be raised in 1.2.\n",
      "  warnings.warn(\n",
      "c:\\Users\\thaka\\anaconda3\\lib\\site-packages\\sklearn\\utils\\validation.py:1688: FutureWarning: Feature names only support names that are all strings. Got feature names with dtypes: ['quoted_name']. An error will be raised in 1.2.\n",
      "  warnings.warn(\n",
      "c:\\Users\\thaka\\anaconda3\\lib\\site-packages\\sklearn\\utils\\validation.py:1688: FutureWarning: Feature names only support names that are all strings. Got feature names with dtypes: ['quoted_name']. An error will be raised in 1.2.\n",
      "  warnings.warn(\n",
      "c:\\Users\\thaka\\anaconda3\\lib\\site-packages\\sklearn\\utils\\validation.py:1688: FutureWarning: Feature names only support names that are all strings. Got feature names with dtypes: ['quoted_name']. An error will be raised in 1.2.\n",
      "  warnings.warn(\n",
      "c:\\Users\\thaka\\anaconda3\\lib\\site-packages\\sklearn\\utils\\validation.py:1688: FutureWarning: Feature names only support names that are all strings. Got feature names with dtypes: ['quoted_name']. An error will be raised in 1.2.\n",
      "  warnings.warn(\n",
      "c:\\Users\\thaka\\anaconda3\\lib\\site-packages\\sklearn\\utils\\validation.py:1688: FutureWarning: Feature names only support names that are all strings. Got feature names with dtypes: ['quoted_name']. An error will be raised in 1.2.\n",
      "  warnings.warn(\n",
      "c:\\Users\\thaka\\anaconda3\\lib\\site-packages\\sklearn\\utils\\validation.py:1688: FutureWarning: Feature names only support names that are all strings. Got feature names with dtypes: ['quoted_name']. An error will be raised in 1.2.\n",
      "  warnings.warn(\n",
      "c:\\Users\\thaka\\anaconda3\\lib\\site-packages\\sklearn\\utils\\validation.py:1688: FutureWarning: Feature names only support names that are all strings. Got feature names with dtypes: ['quoted_name']. An error will be raised in 1.2.\n",
      "  warnings.warn(\n",
      "c:\\Users\\thaka\\anaconda3\\lib\\site-packages\\sklearn\\utils\\validation.py:1688: FutureWarning: Feature names only support names that are all strings. Got feature names with dtypes: ['quoted_name']. An error will be raised in 1.2.\n",
      "  warnings.warn(\n",
      "c:\\Users\\thaka\\anaconda3\\lib\\site-packages\\sklearn\\utils\\validation.py:1688: FutureWarning: Feature names only support names that are all strings. Got feature names with dtypes: ['quoted_name']. An error will be raised in 1.2.\n",
      "  warnings.warn(\n",
      "c:\\Users\\thaka\\anaconda3\\lib\\site-packages\\sklearn\\utils\\validation.py:1688: FutureWarning: Feature names only support names that are all strings. Got feature names with dtypes: ['quoted_name']. An error will be raised in 1.2.\n",
      "  warnings.warn(\n",
      "c:\\Users\\thaka\\anaconda3\\lib\\site-packages\\sklearn\\utils\\validation.py:1688: FutureWarning: Feature names only support names that are all strings. Got feature names with dtypes: ['quoted_name']. An error will be raised in 1.2.\n",
      "  warnings.warn(\n",
      "c:\\Users\\thaka\\anaconda3\\lib\\site-packages\\sklearn\\utils\\validation.py:1688: FutureWarning: Feature names only support names that are all strings. Got feature names with dtypes: ['quoted_name']. An error will be raised in 1.2.\n",
      "  warnings.warn(\n",
      "c:\\Users\\thaka\\anaconda3\\lib\\site-packages\\sklearn\\utils\\validation.py:1688: FutureWarning: Feature names only support names that are all strings. Got feature names with dtypes: ['quoted_name']. An error will be raised in 1.2.\n",
      "  warnings.warn(\n",
      "c:\\Users\\thaka\\anaconda3\\lib\\site-packages\\sklearn\\utils\\validation.py:1688: FutureWarning: Feature names only support names that are all strings. Got feature names with dtypes: ['quoted_name']. An error will be raised in 1.2.\n",
      "  warnings.warn(\n",
      "c:\\Users\\thaka\\anaconda3\\lib\\site-packages\\sklearn\\utils\\validation.py:1688: FutureWarning: Feature names only support names that are all strings. Got feature names with dtypes: ['quoted_name']. An error will be raised in 1.2.\n",
      "  warnings.warn(\n",
      "c:\\Users\\thaka\\anaconda3\\lib\\site-packages\\sklearn\\utils\\validation.py:1688: FutureWarning: Feature names only support names that are all strings. Got feature names with dtypes: ['quoted_name']. An error will be raised in 1.2.\n",
      "  warnings.warn(\n",
      "c:\\Users\\thaka\\anaconda3\\lib\\site-packages\\sklearn\\utils\\validation.py:1688: FutureWarning: Feature names only support names that are all strings. Got feature names with dtypes: ['quoted_name']. An error will be raised in 1.2.\n",
      "  warnings.warn(\n",
      "c:\\Users\\thaka\\anaconda3\\lib\\site-packages\\sklearn\\utils\\validation.py:1688: FutureWarning: Feature names only support names that are all strings. Got feature names with dtypes: ['quoted_name']. An error will be raised in 1.2.\n",
      "  warnings.warn(\n",
      "c:\\Users\\thaka\\anaconda3\\lib\\site-packages\\sklearn\\utils\\validation.py:1688: FutureWarning: Feature names only support names that are all strings. Got feature names with dtypes: ['quoted_name']. An error will be raised in 1.2.\n",
      "  warnings.warn(\n",
      "c:\\Users\\thaka\\anaconda3\\lib\\site-packages\\sklearn\\utils\\validation.py:1688: FutureWarning: Feature names only support names that are all strings. Got feature names with dtypes: ['quoted_name']. An error will be raised in 1.2.\n",
      "  warnings.warn(\n",
      "c:\\Users\\thaka\\anaconda3\\lib\\site-packages\\sklearn\\utils\\validation.py:1688: FutureWarning: Feature names only support names that are all strings. Got feature names with dtypes: ['quoted_name']. An error will be raised in 1.2.\n",
      "  warnings.warn(\n",
      "c:\\Users\\thaka\\anaconda3\\lib\\site-packages\\sklearn\\utils\\validation.py:1688: FutureWarning: Feature names only support names that are all strings. Got feature names with dtypes: ['quoted_name']. An error will be raised in 1.2.\n",
      "  warnings.warn(\n",
      "c:\\Users\\thaka\\anaconda3\\lib\\site-packages\\sklearn\\utils\\validation.py:1688: FutureWarning: Feature names only support names that are all strings. Got feature names with dtypes: ['quoted_name']. An error will be raised in 1.2.\n",
      "  warnings.warn(\n",
      "c:\\Users\\thaka\\anaconda3\\lib\\site-packages\\sklearn\\utils\\validation.py:1688: FutureWarning: Feature names only support names that are all strings. Got feature names with dtypes: ['quoted_name']. An error will be raised in 1.2.\n",
      "  warnings.warn(\n",
      "c:\\Users\\thaka\\anaconda3\\lib\\site-packages\\sklearn\\utils\\validation.py:1688: FutureWarning: Feature names only support names that are all strings. Got feature names with dtypes: ['quoted_name']. An error will be raised in 1.2.\n",
      "  warnings.warn(\n",
      "c:\\Users\\thaka\\anaconda3\\lib\\site-packages\\sklearn\\utils\\validation.py:1688: FutureWarning: Feature names only support names that are all strings. Got feature names with dtypes: ['quoted_name']. An error will be raised in 1.2.\n",
      "  warnings.warn(\n",
      "c:\\Users\\thaka\\anaconda3\\lib\\site-packages\\sklearn\\utils\\validation.py:1688: FutureWarning: Feature names only support names that are all strings. Got feature names with dtypes: ['quoted_name']. An error will be raised in 1.2.\n",
      "  warnings.warn(\n",
      "c:\\Users\\thaka\\anaconda3\\lib\\site-packages\\sklearn\\utils\\validation.py:1688: FutureWarning: Feature names only support names that are all strings. Got feature names with dtypes: ['quoted_name']. An error will be raised in 1.2.\n",
      "  warnings.warn(\n",
      "c:\\Users\\thaka\\anaconda3\\lib\\site-packages\\sklearn\\utils\\validation.py:1688: FutureWarning: Feature names only support names that are all strings. Got feature names with dtypes: ['quoted_name']. An error will be raised in 1.2.\n",
      "  warnings.warn(\n",
      "c:\\Users\\thaka\\anaconda3\\lib\\site-packages\\sklearn\\utils\\validation.py:1688: FutureWarning: Feature names only support names that are all strings. Got feature names with dtypes: ['quoted_name']. An error will be raised in 1.2.\n",
      "  warnings.warn(\n",
      "c:\\Users\\thaka\\anaconda3\\lib\\site-packages\\sklearn\\utils\\validation.py:1688: FutureWarning: Feature names only support names that are all strings. Got feature names with dtypes: ['quoted_name']. An error will be raised in 1.2.\n",
      "  warnings.warn(\n",
      "c:\\Users\\thaka\\anaconda3\\lib\\site-packages\\sklearn\\utils\\validation.py:1688: FutureWarning: Feature names only support names that are all strings. Got feature names with dtypes: ['quoted_name']. An error will be raised in 1.2.\n",
      "  warnings.warn(\n",
      "c:\\Users\\thaka\\anaconda3\\lib\\site-packages\\sklearn\\utils\\validation.py:1688: FutureWarning: Feature names only support names that are all strings. Got feature names with dtypes: ['quoted_name']. An error will be raised in 1.2.\n",
      "  warnings.warn(\n",
      "c:\\Users\\thaka\\anaconda3\\lib\\site-packages\\sklearn\\utils\\validation.py:1688: FutureWarning: Feature names only support names that are all strings. Got feature names with dtypes: ['quoted_name']. An error will be raised in 1.2.\n",
      "  warnings.warn(\n",
      "c:\\Users\\thaka\\anaconda3\\lib\\site-packages\\sklearn\\utils\\validation.py:1688: FutureWarning: Feature names only support names that are all strings. Got feature names with dtypes: ['quoted_name']. An error will be raised in 1.2.\n",
      "  warnings.warn(\n",
      "c:\\Users\\thaka\\anaconda3\\lib\\site-packages\\sklearn\\utils\\validation.py:1688: FutureWarning: Feature names only support names that are all strings. Got feature names with dtypes: ['quoted_name']. An error will be raised in 1.2.\n",
      "  warnings.warn(\n",
      "c:\\Users\\thaka\\anaconda3\\lib\\site-packages\\sklearn\\utils\\validation.py:1688: FutureWarning: Feature names only support names that are all strings. Got feature names with dtypes: ['quoted_name']. An error will be raised in 1.2.\n",
      "  warnings.warn(\n",
      "c:\\Users\\thaka\\anaconda3\\lib\\site-packages\\sklearn\\utils\\validation.py:1688: FutureWarning: Feature names only support names that are all strings. Got feature names with dtypes: ['quoted_name']. An error will be raised in 1.2.\n",
      "  warnings.warn(\n",
      "c:\\Users\\thaka\\anaconda3\\lib\\site-packages\\sklearn\\utils\\validation.py:1688: FutureWarning: Feature names only support names that are all strings. Got feature names with dtypes: ['quoted_name']. An error will be raised in 1.2.\n",
      "  warnings.warn(\n",
      "c:\\Users\\thaka\\anaconda3\\lib\\site-packages\\sklearn\\utils\\validation.py:1688: FutureWarning: Feature names only support names that are all strings. Got feature names with dtypes: ['quoted_name']. An error will be raised in 1.2.\n",
      "  warnings.warn(\n",
      "c:\\Users\\thaka\\anaconda3\\lib\\site-packages\\sklearn\\utils\\validation.py:1688: FutureWarning: Feature names only support names that are all strings. Got feature names with dtypes: ['quoted_name']. An error will be raised in 1.2.\n",
      "  warnings.warn(\n",
      "c:\\Users\\thaka\\anaconda3\\lib\\site-packages\\sklearn\\utils\\validation.py:1688: FutureWarning: Feature names only support names that are all strings. Got feature names with dtypes: ['quoted_name']. An error will be raised in 1.2.\n",
      "  warnings.warn(\n",
      "c:\\Users\\thaka\\anaconda3\\lib\\site-packages\\sklearn\\utils\\validation.py:1688: FutureWarning: Feature names only support names that are all strings. Got feature names with dtypes: ['quoted_name']. An error will be raised in 1.2.\n",
      "  warnings.warn(\n",
      "c:\\Users\\thaka\\anaconda3\\lib\\site-packages\\sklearn\\utils\\validation.py:1688: FutureWarning: Feature names only support names that are all strings. Got feature names with dtypes: ['quoted_name']. An error will be raised in 1.2.\n",
      "  warnings.warn(\n",
      "c:\\Users\\thaka\\anaconda3\\lib\\site-packages\\sklearn\\utils\\validation.py:1688: FutureWarning: Feature names only support names that are all strings. Got feature names with dtypes: ['quoted_name']. An error will be raised in 1.2.\n",
      "  warnings.warn(\n",
      "c:\\Users\\thaka\\anaconda3\\lib\\site-packages\\sklearn\\utils\\validation.py:1688: FutureWarning: Feature names only support names that are all strings. Got feature names with dtypes: ['quoted_name']. An error will be raised in 1.2.\n",
      "  warnings.warn(\n",
      "c:\\Users\\thaka\\anaconda3\\lib\\site-packages\\sklearn\\utils\\validation.py:1688: FutureWarning: Feature names only support names that are all strings. Got feature names with dtypes: ['quoted_name']. An error will be raised in 1.2.\n",
      "  warnings.warn(\n",
      "c:\\Users\\thaka\\anaconda3\\lib\\site-packages\\sklearn\\utils\\validation.py:1688: FutureWarning: Feature names only support names that are all strings. Got feature names with dtypes: ['quoted_name']. An error will be raised in 1.2.\n",
      "  warnings.warn(\n",
      "c:\\Users\\thaka\\anaconda3\\lib\\site-packages\\sklearn\\utils\\validation.py:1688: FutureWarning: Feature names only support names that are all strings. Got feature names with dtypes: ['quoted_name']. An error will be raised in 1.2.\n",
      "  warnings.warn(\n",
      "c:\\Users\\thaka\\anaconda3\\lib\\site-packages\\sklearn\\utils\\validation.py:1688: FutureWarning: Feature names only support names that are all strings. Got feature names with dtypes: ['quoted_name']. An error will be raised in 1.2.\n",
      "  warnings.warn(\n",
      "c:\\Users\\thaka\\anaconda3\\lib\\site-packages\\sklearn\\utils\\validation.py:1688: FutureWarning: Feature names only support names that are all strings. Got feature names with dtypes: ['quoted_name']. An error will be raised in 1.2.\n",
      "  warnings.warn(\n",
      "c:\\Users\\thaka\\anaconda3\\lib\\site-packages\\sklearn\\utils\\validation.py:1688: FutureWarning: Feature names only support names that are all strings. Got feature names with dtypes: ['quoted_name']. An error will be raised in 1.2.\n",
      "  warnings.warn(\n",
      "c:\\Users\\thaka\\anaconda3\\lib\\site-packages\\sklearn\\utils\\validation.py:1688: FutureWarning: Feature names only support names that are all strings. Got feature names with dtypes: ['quoted_name']. An error will be raised in 1.2.\n",
      "  warnings.warn(\n",
      "c:\\Users\\thaka\\anaconda3\\lib\\site-packages\\sklearn\\utils\\validation.py:1688: FutureWarning: Feature names only support names that are all strings. Got feature names with dtypes: ['quoted_name']. An error will be raised in 1.2.\n",
      "  warnings.warn(\n",
      "c:\\Users\\thaka\\anaconda3\\lib\\site-packages\\sklearn\\utils\\validation.py:1688: FutureWarning: Feature names only support names that are all strings. Got feature names with dtypes: ['quoted_name']. An error will be raised in 1.2.\n",
      "  warnings.warn(\n",
      "c:\\Users\\thaka\\anaconda3\\lib\\site-packages\\sklearn\\utils\\validation.py:1688: FutureWarning: Feature names only support names that are all strings. Got feature names with dtypes: ['quoted_name']. An error will be raised in 1.2.\n",
      "  warnings.warn(\n",
      "c:\\Users\\thaka\\anaconda3\\lib\\site-packages\\sklearn\\utils\\validation.py:1688: FutureWarning: Feature names only support names that are all strings. Got feature names with dtypes: ['quoted_name']. An error will be raised in 1.2.\n",
      "  warnings.warn(\n",
      "c:\\Users\\thaka\\anaconda3\\lib\\site-packages\\sklearn\\utils\\validation.py:1688: FutureWarning: Feature names only support names that are all strings. Got feature names with dtypes: ['quoted_name']. An error will be raised in 1.2.\n",
      "  warnings.warn(\n",
      "c:\\Users\\thaka\\anaconda3\\lib\\site-packages\\sklearn\\utils\\validation.py:1688: FutureWarning: Feature names only support names that are all strings. Got feature names with dtypes: ['quoted_name']. An error will be raised in 1.2.\n",
      "  warnings.warn(\n",
      "c:\\Users\\thaka\\anaconda3\\lib\\site-packages\\sklearn\\utils\\validation.py:1688: FutureWarning: Feature names only support names that are all strings. Got feature names with dtypes: ['quoted_name']. An error will be raised in 1.2.\n",
      "  warnings.warn(\n",
      "c:\\Users\\thaka\\anaconda3\\lib\\site-packages\\sklearn\\utils\\validation.py:1688: FutureWarning: Feature names only support names that are all strings. Got feature names with dtypes: ['quoted_name']. An error will be raised in 1.2.\n",
      "  warnings.warn(\n",
      "c:\\Users\\thaka\\anaconda3\\lib\\site-packages\\sklearn\\utils\\validation.py:1688: FutureWarning: Feature names only support names that are all strings. Got feature names with dtypes: ['quoted_name']. An error will be raised in 1.2.\n",
      "  warnings.warn(\n",
      "c:\\Users\\thaka\\anaconda3\\lib\\site-packages\\sklearn\\utils\\validation.py:1688: FutureWarning: Feature names only support names that are all strings. Got feature names with dtypes: ['quoted_name']. An error will be raised in 1.2.\n",
      "  warnings.warn(\n",
      "c:\\Users\\thaka\\anaconda3\\lib\\site-packages\\sklearn\\utils\\validation.py:1688: FutureWarning: Feature names only support names that are all strings. Got feature names with dtypes: ['quoted_name']. An error will be raised in 1.2.\n",
      "  warnings.warn(\n",
      "c:\\Users\\thaka\\anaconda3\\lib\\site-packages\\sklearn\\utils\\validation.py:1688: FutureWarning: Feature names only support names that are all strings. Got feature names with dtypes: ['quoted_name']. An error will be raised in 1.2.\n",
      "  warnings.warn(\n",
      "c:\\Users\\thaka\\anaconda3\\lib\\site-packages\\sklearn\\utils\\validation.py:1688: FutureWarning: Feature names only support names that are all strings. Got feature names with dtypes: ['quoted_name']. An error will be raised in 1.2.\n",
      "  warnings.warn(\n",
      "c:\\Users\\thaka\\anaconda3\\lib\\site-packages\\sklearn\\utils\\validation.py:1688: FutureWarning: Feature names only support names that are all strings. Got feature names with dtypes: ['quoted_name']. An error will be raised in 1.2.\n",
      "  warnings.warn(\n",
      "c:\\Users\\thaka\\anaconda3\\lib\\site-packages\\sklearn\\utils\\validation.py:1688: FutureWarning: Feature names only support names that are all strings. Got feature names with dtypes: ['quoted_name']. An error will be raised in 1.2.\n",
      "  warnings.warn(\n",
      "c:\\Users\\thaka\\anaconda3\\lib\\site-packages\\sklearn\\utils\\validation.py:1688: FutureWarning: Feature names only support names that are all strings. Got feature names with dtypes: ['quoted_name']. An error will be raised in 1.2.\n",
      "  warnings.warn(\n",
      "c:\\Users\\thaka\\anaconda3\\lib\\site-packages\\sklearn\\utils\\validation.py:1688: FutureWarning: Feature names only support names that are all strings. Got feature names with dtypes: ['quoted_name']. An error will be raised in 1.2.\n",
      "  warnings.warn(\n",
      "c:\\Users\\thaka\\anaconda3\\lib\\site-packages\\sklearn\\utils\\validation.py:1688: FutureWarning: Feature names only support names that are all strings. Got feature names with dtypes: ['quoted_name']. An error will be raised in 1.2.\n",
      "  warnings.warn(\n",
      "c:\\Users\\thaka\\anaconda3\\lib\\site-packages\\sklearn\\utils\\validation.py:1688: FutureWarning: Feature names only support names that are all strings. Got feature names with dtypes: ['quoted_name']. An error will be raised in 1.2.\n",
      "  warnings.warn(\n",
      "c:\\Users\\thaka\\anaconda3\\lib\\site-packages\\sklearn\\utils\\validation.py:1688: FutureWarning: Feature names only support names that are all strings. Got feature names with dtypes: ['quoted_name']. An error will be raised in 1.2.\n",
      "  warnings.warn(\n"
     ]
    },
    {
     "data": {
      "text/plain": [
       "GridSearchCV(estimator=AdaBoostClassifier(algorithm='SAMME',\n",
       "                                          base_estimator=DecisionTreeClassifier(),\n",
       "                                          learning_rate=0.6),\n",
       "             param_grid={'base_estimator__max_depth': [2, 5, 7],\n",
       "                         'n_estimators': [200, 400, 600]},\n",
       "             return_train_score=True, scoring='roc_auc', verbose=1)"
      ]
     },
     "execution_count": 13,
     "metadata": {},
     "output_type": "execute_result"
    }
   ],
   "source": [
    "grid_search_ABC.fit(X_train,y_train)"
   ]
  },
  {
   "cell_type": "code",
   "execution_count": null,
   "id": "4fbf26b5",
   "metadata": {},
   "outputs": [
    {
     "name": "stderr",
     "output_type": "stream",
     "text": [
      "c:\\Users\\thaka\\anaconda3\\lib\\site-packages\\sklearn\\utils\\validation.py:1688: FutureWarning: Feature names only support names that are all strings. Got feature names with dtypes: ['quoted_name']. An error will be raised in 1.2.\n",
      "  warnings.warn(\n"
     ]
    }
   ],
   "source": [
    "pred_ABC=grid_search_ABC.predict(X_test)"
   ]
  },
  {
   "cell_type": "code",
   "execution_count": null,
   "id": "13b0822a",
   "metadata": {},
   "outputs": [
    {
     "name": "stdout",
     "output_type": "stream",
     "text": [
      "0.8844894897082174\n",
      "AUC: 0.8845\n"
     ]
    },
    {
     "data": {
      "image/png": "[encoded data removed]",
      "text/plain": [
       "<Figure size 432x288 with 1 Axes>"
      ]
     },
     "metadata": {
      "needs_background": "light"
     },
     "output_type": "display_data"
    },
    {
     "name": "stdout",
     "output_type": "stream",
     "text": [
      "Confusion Matrix: \n",
      " [[3596   17]\n",
      " [  43  147]]\n",
      "\n",
      "Recall 'TP/TP+FN' =  0.7736842105263158\n"
     ]
    }
   ],
   "source": [
    "from sklearn.metrics import roc_curve\n",
    "from sklearn.metrics import auc\n",
    "from sklearn.metrics import roc_auc_score\n",
    "from sklearn.metrics import recall_score\n",
    "from sklearn.metrics import confusion_matrix\n",
    "\n",
    "print(roc_auc_score(y_test, pred_ABC))\n",
    "\n",
    "fpr, tpr, _ = roc_curve(y_test, pred_ABC)\n",
    "roc_auc = auc(fpr, tpr)\n",
    "print('AUC:', np.round(roc_auc,4))\n",
    "\n",
    "plt.title('Receiver Operating Characteristic')\n",
    "plt.plot(fpr, tpr, 'b', label = 'AUC = %0.2f' % roc_auc)\n",
    "plt.legend(loc = 'lower right')\n",
    "plt.plot([0, 1], [0, 1],'r--')\n",
    "plt.xlim([0, 1])\n",
    "plt.ylim([0, 1])\n",
    "plt.ylabel('True Positive Rate')\n",
    "plt.xlabel('False Positive Rate')\n",
    "plt.show()\n",
    "\n",
    "\n",
    "print(\"Confusion Matrix: \\n\",confusion_matrix(y_test,pred_ABC))\n",
    "print(\"\\nRecall 'TP/TP+FN' = \", recall_score(y_test,pred_ABC))"
   ]
  },
  {
   "cell_type": "code",
   "execution_count": null,
   "id": "6fc735be",
   "metadata": {},
   "outputs": [
    {
     "name": "stderr",
     "output_type": "stream",
     "text": [
      "c:\\Users\\thaka\\anaconda3\\lib\\site-packages\\sklearn\\utils\\validation.py:1688: FutureWarning: Feature names only support names that are all strings. Got feature names with dtypes: ['quoted_name']. An error will be raised in 1.2.\n",
      "  warnings.warn(\n",
      "c:\\Users\\thaka\\anaconda3\\lib\\site-packages\\sklearn\\utils\\validation.py:1688: FutureWarning: Feature names only support names that are all strings. Got feature names with dtypes: ['quoted_name']. An error will be raised in 1.2.\n",
      "  warnings.warn(\n",
      "c:\\Users\\thaka\\anaconda3\\lib\\site-packages\\sklearn\\utils\\validation.py:1688: FutureWarning: Feature names only support names that are all strings. Got feature names with dtypes: ['quoted_name']. An error will be raised in 1.2.\n",
      "  warnings.warn(\n",
      "c:\\Users\\thaka\\anaconda3\\lib\\site-packages\\sklearn\\utils\\validation.py:1688: FutureWarning: Feature names only support names that are all strings. Got feature names with dtypes: ['quoted_name']. An error will be raised in 1.2.\n",
      "  warnings.warn(\n",
      "c:\\Users\\thaka\\anaconda3\\lib\\site-packages\\sklearn\\utils\\validation.py:1688: FutureWarning: Feature names only support names that are all strings. Got feature names with dtypes: ['quoted_name']. An error will be raised in 1.2.\n",
      "  warnings.warn(\n",
      "c:\\Users\\thaka\\anaconda3\\lib\\site-packages\\sklearn\\utils\\validation.py:1688: FutureWarning: Feature names only support names that are all strings. Got feature names with dtypes: ['quoted_name']. An error will be raised in 1.2.\n",
      "  warnings.warn(\n",
      "c:\\Users\\thaka\\anaconda3\\lib\\site-packages\\sklearn\\utils\\validation.py:1688: FutureWarning: Feature names only support names that are all strings. Got feature names with dtypes: ['quoted_name']. An error will be raised in 1.2.\n",
      "  warnings.warn(\n",
      "c:\\Users\\thaka\\anaconda3\\lib\\site-packages\\sklearn\\utils\\validation.py:1688: FutureWarning: Feature names only support names that are all strings. Got feature names with dtypes: ['quoted_name']. An error will be raised in 1.2.\n",
      "  warnings.warn(\n",
      "c:\\Users\\thaka\\anaconda3\\lib\\site-packages\\sklearn\\utils\\validation.py:1688: FutureWarning: Feature names only support names that are all strings. Got feature names with dtypes: ['quoted_name']. An error will be raised in 1.2.\n",
      "  warnings.warn(\n",
      "c:\\Users\\thaka\\anaconda3\\lib\\site-packages\\sklearn\\utils\\validation.py:1688: FutureWarning: Feature names only support names that are all strings. Got feature names with dtypes: ['quoted_name']. An error will be raised in 1.2.\n",
      "  warnings.warn(\n",
      "c:\\Users\\thaka\\anaconda3\\lib\\site-packages\\sklearn\\utils\\validation.py:1688: FutureWarning: Feature names only support names that are all strings. Got feature names with dtypes: ['quoted_name']. An error will be raised in 1.2.\n",
      "  warnings.warn(\n",
      "c:\\Users\\thaka\\anaconda3\\lib\\site-packages\\sklearn\\utils\\validation.py:1688: FutureWarning: Feature names only support names that are all strings. Got feature names with dtypes: ['quoted_name']. An error will be raised in 1.2.\n",
      "  warnings.warn(\n",
      "c:\\Users\\thaka\\anaconda3\\lib\\site-packages\\sklearn\\utils\\validation.py:1688: FutureWarning: Feature names only support names that are all strings. Got feature names with dtypes: ['quoted_name']. An error will be raised in 1.2.\n",
      "  warnings.warn(\n",
      "c:\\Users\\thaka\\anaconda3\\lib\\site-packages\\sklearn\\utils\\validation.py:1688: FutureWarning: Feature names only support names that are all strings. Got feature names with dtypes: ['quoted_name']. An error will be raised in 1.2.\n",
      "  warnings.warn(\n",
      "c:\\Users\\thaka\\anaconda3\\lib\\site-packages\\sklearn\\utils\\validation.py:1688: FutureWarning: Feature names only support names that are all strings. Got feature names with dtypes: ['quoted_name']. An error will be raised in 1.2.\n",
      "  warnings.warn(\n",
      "c:\\Users\\thaka\\anaconda3\\lib\\site-packages\\sklearn\\utils\\validation.py:1688: FutureWarning: Feature names only support names that are all strings. Got feature names with dtypes: ['quoted_name']. An error will be raised in 1.2.\n",
      "  warnings.warn(\n",
      "c:\\Users\\thaka\\anaconda3\\lib\\site-packages\\sklearn\\utils\\validation.py:1688: FutureWarning: Feature names only support names that are all strings. Got feature names with dtypes: ['quoted_name']. An error will be raised in 1.2.\n",
      "  warnings.warn(\n",
      "c:\\Users\\thaka\\anaconda3\\lib\\site-packages\\sklearn\\utils\\validation.py:1688: FutureWarning: Feature names only support names that are all strings. Got feature names with dtypes: ['quoted_name']. An error will be raised in 1.2.\n",
      "  warnings.warn(\n",
      "c:\\Users\\thaka\\anaconda3\\lib\\site-packages\\sklearn\\utils\\validation.py:1688: FutureWarning: Feature names only support names that are all strings. Got feature names with dtypes: ['quoted_name']. An error will be raised in 1.2.\n",
      "  warnings.warn(\n",
      "c:\\Users\\thaka\\anaconda3\\lib\\site-packages\\sklearn\\utils\\validation.py:1688: FutureWarning: Feature names only support names that are all strings. Got feature names with dtypes: ['quoted_name']. An error will be raised in 1.2.\n",
      "  warnings.warn(\n",
      "c:\\Users\\thaka\\anaconda3\\lib\\site-packages\\sklearn\\utils\\validation.py:1688: FutureWarning: Feature names only support names that are all strings. Got feature names with dtypes: ['quoted_name']. An error will be raised in 1.2.\n",
      "  warnings.warn(\n",
      "c:\\Users\\thaka\\anaconda3\\lib\\site-packages\\sklearn\\utils\\validation.py:1688: FutureWarning: Feature names only support names that are all strings. Got feature names with dtypes: ['quoted_name']. An error will be raised in 1.2.\n",
      "  warnings.warn(\n",
      "c:\\Users\\thaka\\anaconda3\\lib\\site-packages\\sklearn\\utils\\validation.py:1688: FutureWarning: Feature names only support names that are all strings. Got feature names with dtypes: ['quoted_name']. An error will be raised in 1.2.\n",
      "  warnings.warn(\n",
      "c:\\Users\\thaka\\anaconda3\\lib\\site-packages\\sklearn\\utils\\validation.py:1688: FutureWarning: Feature names only support names that are all strings. Got feature names with dtypes: ['quoted_name']. An error will be raised in 1.2.\n",
      "  warnings.warn(\n",
      "c:\\Users\\thaka\\anaconda3\\lib\\site-packages\\sklearn\\utils\\validation.py:1688: FutureWarning: Feature names only support names that are all strings. Got feature names with dtypes: ['quoted_name']. An error will be raised in 1.2.\n",
      "  warnings.warn(\n",
      "c:\\Users\\thaka\\anaconda3\\lib\\site-packages\\sklearn\\utils\\validation.py:1688: FutureWarning: Feature names only support names that are all strings. Got feature names with dtypes: ['quoted_name']. An error will be raised in 1.2.\n",
      "  warnings.warn(\n",
      "c:\\Users\\thaka\\anaconda3\\lib\\site-packages\\sklearn\\utils\\validation.py:1688: FutureWarning: Feature names only support names that are all strings. Got feature names with dtypes: ['quoted_name']. An error will be raised in 1.2.\n",
      "  warnings.warn(\n",
      "c:\\Users\\thaka\\anaconda3\\lib\\site-packages\\sklearn\\utils\\validation.py:1688: FutureWarning: Feature names only support names that are all strings. Got feature names with dtypes: ['quoted_name']. An error will be raised in 1.2.\n",
      "  warnings.warn(\n",
      "c:\\Users\\thaka\\anaconda3\\lib\\site-packages\\sklearn\\utils\\validation.py:1688: FutureWarning: Feature names only support names that are all strings. Got feature names with dtypes: ['quoted_name']. An error will be raised in 1.2.\n",
      "  warnings.warn(\n",
      "c:\\Users\\thaka\\anaconda3\\lib\\site-packages\\sklearn\\utils\\validation.py:1688: FutureWarning: Feature names only support names that are all strings. Got feature names with dtypes: ['quoted_name']. An error will be raised in 1.2.\n",
      "  warnings.warn(\n",
      "c:\\Users\\thaka\\anaconda3\\lib\\site-packages\\sklearn\\utils\\validation.py:1688: FutureWarning: Feature names only support names that are all strings. Got feature names with dtypes: ['quoted_name']. An error will be raised in 1.2.\n",
      "  warnings.warn(\n",
      "c:\\Users\\thaka\\anaconda3\\lib\\site-packages\\sklearn\\utils\\validation.py:1688: FutureWarning: Feature names only support names that are all strings. Got feature names with dtypes: ['quoted_name']. An error will be raised in 1.2.\n",
      "  warnings.warn(\n",
      "c:\\Users\\thaka\\anaconda3\\lib\\site-packages\\sklearn\\utils\\validation.py:1688: FutureWarning: Feature names only support names that are all strings. Got feature names with dtypes: ['quoted_name']. An error will be raised in 1.2.\n",
      "  warnings.warn(\n",
      "c:\\Users\\thaka\\anaconda3\\lib\\site-packages\\sklearn\\utils\\validation.py:1688: FutureWarning: Feature names only support names that are all strings. Got feature names with dtypes: ['quoted_name']. An error will be raised in 1.2.\n",
      "  warnings.warn(\n",
      "c:\\Users\\thaka\\anaconda3\\lib\\site-packages\\sklearn\\utils\\validation.py:1688: FutureWarning: Feature names only support names that are all strings. Got feature names with dtypes: ['quoted_name']. An error will be raised in 1.2.\n",
      "  warnings.warn(\n",
      "c:\\Users\\thaka\\anaconda3\\lib\\site-packages\\sklearn\\utils\\validation.py:1688: FutureWarning: Feature names only support names that are all strings. Got feature names with dtypes: ['quoted_name']. An error will be raised in 1.2.\n",
      "  warnings.warn(\n",
      "c:\\Users\\thaka\\anaconda3\\lib\\site-packages\\sklearn\\utils\\validation.py:1688: FutureWarning: Feature names only support names that are all strings. Got feature names with dtypes: ['quoted_name']. An error will be raised in 1.2.\n",
      "  warnings.warn(\n",
      "c:\\Users\\thaka\\anaconda3\\lib\\site-packages\\sklearn\\utils\\validation.py:1688: FutureWarning: Feature names only support names that are all strings. Got feature names with dtypes: ['quoted_name']. An error will be raised in 1.2.\n",
      "  warnings.warn(\n",
      "c:\\Users\\thaka\\anaconda3\\lib\\site-packages\\sklearn\\utils\\validation.py:1688: FutureWarning: Feature names only support names that are all strings. Got feature names with dtypes: ['quoted_name']. An error will be raised in 1.2.\n",
      "  warnings.warn(\n",
      "c:\\Users\\thaka\\anaconda3\\lib\\site-packages\\sklearn\\utils\\validation.py:1688: FutureWarning: Feature names only support names that are all strings. Got feature names with dtypes: ['quoted_name']. An error will be raised in 1.2.\n",
      "  warnings.warn(\n",
      "c:\\Users\\thaka\\anaconda3\\lib\\site-packages\\sklearn\\utils\\validation.py:1688: FutureWarning: Feature names only support names that are all strings. Got feature names with dtypes: ['quoted_name']. An error will be raised in 1.2.\n",
      "  warnings.warn(\n",
      "c:\\Users\\thaka\\anaconda3\\lib\\site-packages\\sklearn\\utils\\validation.py:1688: FutureWarning: Feature names only support names that are all strings. Got feature names with dtypes: ['quoted_name']. An error will be raised in 1.2.\n",
      "  warnings.warn(\n",
      "c:\\Users\\thaka\\anaconda3\\lib\\site-packages\\sklearn\\utils\\validation.py:1688: FutureWarning: Feature names only support names that are all strings. Got feature names with dtypes: ['quoted_name']. An error will be raised in 1.2.\n",
      "  warnings.warn(\n",
      "c:\\Users\\thaka\\anaconda3\\lib\\site-packages\\sklearn\\utils\\validation.py:1688: FutureWarning: Feature names only support names that are all strings. Got feature names with dtypes: ['quoted_name']. An error will be raised in 1.2.\n",
      "  warnings.warn(\n",
      "c:\\Users\\thaka\\anaconda3\\lib\\site-packages\\sklearn\\utils\\validation.py:1688: FutureWarning: Feature names only support names that are all strings. Got feature names with dtypes: ['quoted_name']. An error will be raised in 1.2.\n",
      "  warnings.warn(\n",
      "c:\\Users\\thaka\\anaconda3\\lib\\site-packages\\sklearn\\utils\\validation.py:1688: FutureWarning: Feature names only support names that are all strings. Got feature names with dtypes: ['quoted_name']. An error will be raised in 1.2.\n",
      "  warnings.warn(\n",
      "c:\\Users\\thaka\\anaconda3\\lib\\site-packages\\sklearn\\utils\\validation.py:1688: FutureWarning: Feature names only support names that are all strings. Got feature names with dtypes: ['quoted_name']. An error will be raised in 1.2.\n",
      "  warnings.warn(\n",
      "c:\\Users\\thaka\\anaconda3\\lib\\site-packages\\sklearn\\utils\\validation.py:1688: FutureWarning: Feature names only support names that are all strings. Got feature names with dtypes: ['quoted_name']. An error will be raised in 1.2.\n",
      "  warnings.warn(\n",
      "c:\\Users\\thaka\\anaconda3\\lib\\site-packages\\sklearn\\utils\\validation.py:1688: FutureWarning: Feature names only support names that are all strings. Got feature names with dtypes: ['quoted_name']. An error will be raised in 1.2.\n",
      "  warnings.warn(\n",
      "c:\\Users\\thaka\\anaconda3\\lib\\site-packages\\sklearn\\utils\\validation.py:1688: FutureWarning: Feature names only support names that are all strings. Got feature names with dtypes: ['quoted_name']. An error will be raised in 1.2.\n",
      "  warnings.warn(\n",
      "c:\\Users\\thaka\\anaconda3\\lib\\site-packages\\sklearn\\utils\\validation.py:1688: FutureWarning: Feature names only support names that are all strings. Got feature names with dtypes: ['quoted_name']. An error will be raised in 1.2.\n",
      "  warnings.warn(\n",
      "c:\\Users\\thaka\\anaconda3\\lib\\site-packages\\sklearn\\utils\\validation.py:1688: FutureWarning: Feature names only support names that are all strings. Got feature names with dtypes: ['quoted_name']. An error will be raised in 1.2.\n",
      "  warnings.warn(\n",
      "c:\\Users\\thaka\\anaconda3\\lib\\site-packages\\sklearn\\utils\\validation.py:1688: FutureWarning: Feature names only support names that are all strings. Got feature names with dtypes: ['quoted_name']. An error will be raised in 1.2.\n",
      "  warnings.warn(\n",
      "c:\\Users\\thaka\\anaconda3\\lib\\site-packages\\sklearn\\utils\\validation.py:1688: FutureWarning: Feature names only support names that are all strings. Got feature names with dtypes: ['quoted_name']. An error will be raised in 1.2.\n",
      "  warnings.warn(\n",
      "c:\\Users\\thaka\\anaconda3\\lib\\site-packages\\sklearn\\utils\\validation.py:1688: FutureWarning: Feature names only support names that are all strings. Got feature names with dtypes: ['quoted_name']. An error will be raised in 1.2.\n",
      "  warnings.warn(\n",
      "c:\\Users\\thaka\\anaconda3\\lib\\site-packages\\sklearn\\utils\\validation.py:1688: FutureWarning: Feature names only support names that are all strings. Got feature names with dtypes: ['quoted_name']. An error will be raised in 1.2.\n",
      "  warnings.warn(\n",
      "c:\\Users\\thaka\\anaconda3\\lib\\site-packages\\sklearn\\utils\\validation.py:1688: FutureWarning: Feature names only support names that are all strings. Got feature names with dtypes: ['quoted_name']. An error will be raised in 1.2.\n",
      "  warnings.warn(\n",
      "c:\\Users\\thaka\\anaconda3\\lib\\site-packages\\sklearn\\utils\\validation.py:1688: FutureWarning: Feature names only support names that are all strings. Got feature names with dtypes: ['quoted_name']. An error will be raised in 1.2.\n",
      "  warnings.warn(\n",
      "c:\\Users\\thaka\\anaconda3\\lib\\site-packages\\sklearn\\utils\\validation.py:1688: FutureWarning: Feature names only support names that are all strings. Got feature names with dtypes: ['quoted_name']. An error will be raised in 1.2.\n",
      "  warnings.warn(\n",
      "c:\\Users\\thaka\\anaconda3\\lib\\site-packages\\sklearn\\utils\\validation.py:1688: FutureWarning: Feature names only support names that are all strings. Got feature names with dtypes: ['quoted_name']. An error will be raised in 1.2.\n",
      "  warnings.warn(\n",
      "c:\\Users\\thaka\\anaconda3\\lib\\site-packages\\sklearn\\utils\\validation.py:1688: FutureWarning: Feature names only support names that are all strings. Got feature names with dtypes: ['quoted_name']. An error will be raised in 1.2.\n",
      "  warnings.warn(\n"
     ]
    },
    {
     "data": {
      "text/plain": [
       "GridSearchCV(cv=5,\n",
       "             estimator=RandomForestClassifier(max_features='sqrt',\n",
       "                                              n_estimators=50, n_jobs=-1,\n",
       "                                              oob_score=True),\n",
       "             param_grid={'max_features': ['auto', 'sqrt', 'log2'],\n",
       "                         'n_estimators': [200, 700]})"
      ]
     },
     "execution_count": 16,
     "metadata": {},
     "output_type": "execute_result"
    }
   ],
   "source": [
    "from sklearn.datasets import make_classification\n",
    "from sklearn.ensemble import RandomForestClassifier\n",
    "\n",
    "\n",
    "rfc = RandomForestClassifier(n_jobs=-1,max_features= 'sqrt' ,n_estimators=50, oob_score = True) \n",
    "\n",
    "param_grid = { \n",
    "    'n_estimators': [200, 700],\n",
    "    'max_features': ['auto', 'sqrt', 'log2']\n",
    "}\n",
    "# GridSearch of parameter tunning.\n",
    "CV_rfc = GridSearchCV(estimator=rfc, param_grid=param_grid, cv= 5)\n",
    "CV_rfc.fit(X_train, y_train)"
   ]
  },
  {
   "cell_type": "code",
   "execution_count": null,
   "id": "fd19ada7",
   "metadata": {},
   "outputs": [
    {
     "name": "stderr",
     "output_type": "stream",
     "text": [
      "c:\\Users\\thaka\\anaconda3\\lib\\site-packages\\sklearn\\utils\\validation.py:1688: FutureWarning: Feature names only support names that are all strings. Got feature names with dtypes: ['quoted_name']. An error will be raised in 1.2.\n",
      "  warnings.warn(\n"
     ]
    }
   ],
   "source": [
    "pred=CV_rfc.predict(X_test)"
   ]
  },
  {
   "cell_type": "code",
   "execution_count": null,
   "id": "d33d59f2",
   "metadata": {},
   "outputs": [
    {
     "name": "stdout",
     "output_type": "stream",
     "text": [
      "0.8943238597462381\n",
      "AUC: 0.8943\n"
     ]
    },
    {
     "data": {
      "image/png": "[encoded data removed]",
      "text/plain": [
       "<Figure size 432x288 with 1 Axes>"
      ]
     },
     "metadata": {
      "needs_background": "light"
     },
     "output_type": "display_data"
    },
    {
     "name": "stdout",
     "output_type": "stream",
     "text": [
      "Confusion Matrix: \n",
      " [[3591   22]\n",
      " [  39  151]]\n",
      "\n",
      "Recall 'TP/TP+FN' =  0.7947368421052632\n"
     ]
    }
   ],
   "source": [
    "print(roc_auc_score(y_test, pred))\n",
    "\n",
    "fpr, tpr, _ = roc_curve(y_test, pred)\n",
    "roc_auc = auc(fpr, tpr)\n",
    "print('AUC:', np.round(roc_auc,4))\n",
    "\n",
    "plt.title('Receiver Operating Characteristic')\n",
    "plt.plot(fpr, tpr, 'b', label = 'AUC = %0.2f' % roc_auc)\n",
    "plt.legend(loc = 'lower right')\n",
    "plt.plot([0, 1], [0, 1],'r--')\n",
    "plt.xlim([0, 1])\n",
    "plt.ylim([0, 1])\n",
    "plt.ylabel('True Positive Rate')\n",
    "plt.xlabel('False Positive Rate')\n",
    "plt.show()\n",
    "\n",
    "\n",
    "print(\"Confusion Matrix: \\n\",confusion_matrix(y_test,pred))\n",
    "print(\"\\nRecall 'TP/TP+FN' = \", recall_score(y_test,pred))"
   ]
  },
  {
   "cell_type": "code",
   "execution_count": null,
   "id": "3132ab36",
   "metadata": {},
   "outputs": [
    {
     "name": "stdout",
     "output_type": "stream",
     "text": [
      "[19:27:13] WARNING: C:\\buildkite-agent\\builds\\buildkite-windows-cpu-autoscaling-group-i-07593ffd91cd9da33-1\\xgboost\\xgboost-ci-windows\\src\\learner.cc:767: \n",
      "Parameters: { \"silent\" } are not used.\n",
      "\n",
      "0.9822934724022898\n",
      "AUC: 0.9823\n"
     ]
    },
    {
     "name": "stderr",
     "output_type": "stream",
     "text": [
      "c:\\Users\\thaka\\anaconda3\\lib\\site-packages\\xgboost\\core.py:122: UserWarning: ntree_limit is deprecated, use `iteration_range` or model slicing instead.\n",
      "  warnings.warn(\n"
     ]
    },
    {
     "data": {
      "image/png": "[encoded data removed]",
      "text/plain": [
       "<Figure size 432x288 with 1 Axes>"
      ]
     },
     "metadata": {
      "needs_background": "light"
     },
     "output_type": "display_data"
    },
    {
     "name": "stdout",
     "output_type": "stream",
     "text": [
      "Confusion Matrix: \n",
      " [[3590   23]\n",
      " [  38  152]]\n",
      "\n",
      "Recall 'TP/TP+FN' =  0.8\n"
     ]
    }
   ],
   "source": [
    "from sklearn.metrics import roc_curve, auc\n",
    "\n",
    "dtrain = xgb.DMatrix(X_train[features], label=y_train)\n",
    "dtest = xgb.DMatrix(X_test[features], label=y_test)\n",
    "from xgboost import XGBClassifier\n",
    "import matplotlib.pyplot as plt\n",
    "\n",
    "param = {\n",
    "        'objective': 'binary:logistic',\n",
    "        'booster': 'gbtree',\n",
    "        'eval_metric': 'auc',\n",
    "        'max_depth': 6,  # the maximum depth of each tree\n",
    "        'eta': 0.003,  # the training step for each iteration\n",
    "        'silent': 1}  # logging mode - quiet}  # the number of classes that exist in this datset\n",
    "num_round = 5000  # the number of training iterations    \n",
    "bst = xgb.train(param, dtrain, num_round)\n",
    "preds = bst.predict(dtest)\n",
    "\n",
    "print (roc_auc_score(y_test, preds))\n",
    "fpr, tpr, _ = roc_curve(y_test, preds)\n",
    "roc_auc = auc(fpr, tpr)\n",
    "print('AUC:', np.round(roc_auc,4))\n",
    "\n",
    "ypred_bst = np.array(bst.predict(dtest,ntree_limit=bst.best_iteration))\n",
    "ypred_bst  = ypred_bst > 0.5\n",
    "ypred_bst = ypred_bst.astype(int)  \n",
    "\n",
    "plt.title('Receiver Operating Characteristic')\n",
    "plt.plot(fpr, tpr, 'b', label = 'AUC = %0.2f' % roc_auc)\n",
    "plt.legend(loc = 'lower right')\n",
    "plt.plot([0, 1], [0, 1],'r--')\n",
    "plt.xlim([0, 1])\n",
    "plt.ylim([0, 1])\n",
    "plt.ylabel('True Positive Rate')\n",
    "plt.xlabel('False Positive Rate')\n",
    "plt.show()\n",
    "print(\"Confusion Matrix: \\n\",confusion_matrix(y_test,ypred_bst))\n",
    "print(\"\\nRecall 'TP/TP+FN' = \", recall_score(y_test,ypred_bst))"
   ]
  },
  {
   "cell_type": "code",
   "execution_count": null,
   "id": "2bda828a",
   "metadata": {},
   "outputs": [
    {
     "data": {
      "image/png": "[encoded data removed]",
      "text/plain": [
       "<Figure size 432x288 with 1 Axes>"
      ]
     },
     "metadata": {
      "needs_background": "light"
     },
     "output_type": "display_data"
    }
   ],
   "source": [
    "dlive = xgb.DMatrix(df_predict[features]) #, label=[])\n",
    "preds = bst.predict(dlive)\n",
    "\n",
    "plt.plot(preds)\n",
    "plt.show()"
   ]
  },
  {
   "cell_type": "code",
   "execution_count": null,
   "id": "11cdd302",
   "metadata": {},
   "outputs": [
    {
     "name": "stderr",
     "output_type": "stream",
     "text": [
      "C:\\Users\\thaka\\AppData\\Local\\Temp\\ipykernel_7020\\2821658332.py:2: SettingWithCopyWarning: \n",
      "A value is trying to be set on a copy of a slice from a DataFrame.\n",
      "Try using .loc[row_indexer,col_indexer] = value instead\n",
      "\n",
      "See the caveats in the documentation: https://pandas.pydata.org/pandas-docs/stable/user_guide/indexing.html#returning-a-view-versus-a-copy\n",
      "  live_set.loc[:,'quake'] = preds\n"
     ]
    },
    {
     "data": {
      "text/html": [
       "<div>\n",
       "<style scoped>\n",
       "    .dataframe tbody tr th:only-of-type {\n",
       "        vertical-align: middle;\n",
       "    }\n",
       "\n",
       "    .dataframe tbody tr th {\n",
       "        vertical-align: top;\n",
       "    }\n",
       "\n",
       "    .dataframe thead th {\n",
       "        text-align: right;\n",
       "    }\n",
       "</style>\n",
       "<table border=\"1\" class=\"dataframe\">\n",
       "  <thead>\n",
       "    <tr style=\"text-align: right;\">\n",
       "      <th></th>\n",
       "      <th>date</th>\n",
       "      <th>place</th>\n",
       "      <th>latitude</th>\n",
       "      <th>longitude</th>\n",
       "      <th>quake</th>\n",
       "    </tr>\n",
       "  </thead>\n",
       "  <tbody>\n",
       "    <tr>\n",
       "      <th>75</th>\n",
       "      <td>2020-08-18</td>\n",
       "      <td>Hawaii</td>\n",
       "      <td>19.282855</td>\n",
       "      <td>-155.420908</td>\n",
       "      <td>0.004697</td>\n",
       "    </tr>\n",
       "    <tr>\n",
       "      <th>76</th>\n",
       "      <td>2020-08-18</td>\n",
       "      <td>Indonesia</td>\n",
       "      <td>-4.186166</td>\n",
       "      <td>119.931170</td>\n",
       "      <td>0.994516</td>\n",
       "    </tr>\n",
       "    <tr>\n",
       "      <th>77</th>\n",
       "      <td>2020-08-18</td>\n",
       "      <td>Nevada</td>\n",
       "      <td>38.177047</td>\n",
       "      <td>-117.932016</td>\n",
       "      <td>0.000081</td>\n",
       "    </tr>\n",
       "    <tr>\n",
       "      <th>78</th>\n",
       "      <td>2020-08-18</td>\n",
       "      <td>Philippines</td>\n",
       "      <td>7.507142</td>\n",
       "      <td>125.354826</td>\n",
       "      <td>0.994352</td>\n",
       "    </tr>\n",
       "    <tr>\n",
       "      <th>79</th>\n",
       "      <td>2020-08-18</td>\n",
       "      <td>Puerto Rico</td>\n",
       "      <td>17.974638</td>\n",
       "      <td>-66.897354</td>\n",
       "      <td>0.917494</td>\n",
       "    </tr>\n",
       "  </tbody>\n",
       "</table>\n",
       "</div>"
      ],
      "text/plain": [
       "         date        place   latitude   longitude     quake\n",
       "75 2020-08-18       Hawaii  19.282855 -155.420908  0.004697\n",
       "76 2020-08-18    Indonesia  -4.186166  119.931170  0.994516\n",
       "77 2020-08-18       Nevada  38.177047 -117.932016  0.000081\n",
       "78 2020-08-18  Philippines   7.507142  125.354826  0.994352\n",
       "79 2020-08-18  Puerto Rico  17.974638  -66.897354  0.917494"
      ]
     },
     "execution_count": 21,
     "metadata": {},
     "output_type": "execute_result"
    }
   ],
   "source": [
    "live_set = df_predict[['date', 'place', 'latitude', 'longitude']]\n",
    "live_set.loc[:,'quake'] = preds\n",
    "# aggregate down dups\n",
    "live_set = live_set.groupby(['date', 'place'], as_index=False).mean()\n",
    "\n",
    "# increment date to include DAYS_OUT_TO_PREDICT\n",
    "live_set['date']= pd.to_datetime(live_set['date'],format='%Y-%m-%d') \n",
    "live_set['date'] = live_set['date'] + pd.to_timedelta(7,unit='d')\n",
    "\n",
    "live_set.tail()"
   ]
  },
  {
   "cell_type": "code",
   "execution_count": null,
   "id": "9f301ab3",
   "metadata": {},
   "outputs": [
    {
     "data": {
      "text/html": [
       "<div>\n",
       "<style scoped>\n",
       "    .dataframe tbody tr th:only-of-type {\n",
       "        vertical-align: middle;\n",
       "    }\n",
       "\n",
       "    .dataframe tbody tr th {\n",
       "        vertical-align: top;\n",
       "    }\n",
       "\n",
       "    .dataframe thead th {\n",
       "        text-align: right;\n",
       "    }\n",
       "</style>\n",
       "<table border=\"1\" class=\"dataframe\">\n",
       "  <thead>\n",
       "    <tr style=\"text-align: right;\">\n",
       "      <th></th>\n",
       "      <th>date</th>\n",
       "      <th>place</th>\n",
       "      <th>latitude</th>\n",
       "      <th>longitude</th>\n",
       "      <th>quake</th>\n",
       "    </tr>\n",
       "  </thead>\n",
       "  <tbody>\n",
       "    <tr>\n",
       "      <th>0</th>\n",
       "      <td>2020-08-05</td>\n",
       "      <td>Aleutian Islands</td>\n",
       "      <td>51.804107</td>\n",
       "      <td>102.265774</td>\n",
       "      <td>0.003171</td>\n",
       "    </tr>\n",
       "    <tr>\n",
       "      <th>1</th>\n",
       "      <td>2020-08-06</td>\n",
       "      <td>India</td>\n",
       "      <td>22.270152</td>\n",
       "      <td>93.567868</td>\n",
       "      <td>0.978504</td>\n",
       "    </tr>\n",
       "    <tr>\n",
       "      <th>2</th>\n",
       "      <td>2020-08-06</td>\n",
       "      <td>Philippines</td>\n",
       "      <td>7.507142</td>\n",
       "      <td>125.354826</td>\n",
       "      <td>0.994584</td>\n",
       "    </tr>\n",
       "    <tr>\n",
       "      <th>3</th>\n",
       "      <td>2020-08-07</td>\n",
       "      <td>India</td>\n",
       "      <td>22.270152</td>\n",
       "      <td>93.567868</td>\n",
       "      <td>0.934952</td>\n",
       "    </tr>\n",
       "    <tr>\n",
       "      <th>4</th>\n",
       "      <td>2020-08-07</td>\n",
       "      <td>Peru</td>\n",
       "      <td>-14.374907</td>\n",
       "      <td>-73.042380</td>\n",
       "      <td>0.993830</td>\n",
       "    </tr>\n",
       "  </tbody>\n",
       "</table>\n",
       "</div>"
      ],
      "text/plain": [
       "        date             place   latitude   longitude     quake\n",
       "0 2020-08-05  Aleutian Islands  51.804107  102.265774  0.003171\n",
       "1 2020-08-06             India  22.270152   93.567868  0.978504\n",
       "2 2020-08-06       Philippines   7.507142  125.354826  0.994584\n",
       "3 2020-08-07             India  22.270152   93.567868  0.934952\n",
       "4 2020-08-07              Peru -14.374907  -73.042380  0.993830"
      ]
     },
     "execution_count": 22,
     "metadata": {},
     "output_type": "execute_result"
    }
   ],
   "source": [
    "live_set.head()"
   ]
  },
  {
   "cell_type": "code",
   "execution_count": null,
   "id": "039b3b83",
   "metadata": {},
   "outputs": [
    {
     "data": {
      "text/plain": [
       "'2020-08-05'"
      ]
     },
     "execution_count": 39,
     "metadata": {},
     "output_type": "execute_result"
    }
   ],
   "source": [
    "import datetime as dt\n",
    "# convert date to proper format for prediction\n",
    "d2 = dt.datetime(2020,7,15)\n",
    "days = list(set([d for d in live_set['date'].astype(str) if d > d2.strftime('%Y-%m-%d')]))\n",
    "days.sort()\n",
    "\n",
    "# Predict NaN outcome value in earthquake for next day 1.\n",
    "predict_day=days[0]\n",
    "predict_day"
   ]
  },
  {
   "cell_type": "code",
   "execution_count": null,
   "id": "031a364d",
   "metadata": {},
   "outputs": [
    {
     "data": {
      "image/png": "[encoded data removed]",
      "text/plain": [
       "<Figure size 432x288 with 1 Axes>"
      ]
     },
     "metadata": {
      "needs_background": "light"
     },
     "output_type": "display_data"
    },
    {
     "data": {
      "image/png": "[encoded data removed]",
      "text/plain": [
       "<Figure size 432x288 with 1 Axes>"
      ]
     },
     "metadata": {
      "needs_background": "light"
     },
     "output_type": "display_data"
    },
    {
     "data": {
      "image/png": "[encoded data removed]",
      "text/plain": [
       "<Figure size 432x288 with 1 Axes>"
      ]
     },
     "metadata": {
      "needs_background": "light"
     },
     "output_type": "display_data"
    },
    {
     "data": {
      "image/png": "[encoded data removed]",
      "text/plain": [
       "<Figure size 432x288 with 1 Axes>"
      ]
     },
     "metadata": {
      "needs_background": "light"
     },
     "output_type": "display_data"
    },
    {
     "data": {
      "image/png": "[encoded data removed]",
      "text/plain": [
       "<Figure size 432x288 with 1 Axes>"
      ]
     },
     "metadata": {
      "needs_background": "light"
     },
     "output_type": "display_data"
    },
    {
     "data": {
      "image/png": "[encoded data removed]",
      "text/plain": [
       "<Figure size 432x288 with 1 Axes>"
      ]
     },
     "metadata": {
      "needs_background": "light"
     },
     "output_type": "display_data"
    },
    {
     "data": {
      "image/png": "[encoded data removed]",
      "text/plain": [
       "<Figure size 432x288 with 1 Axes>"
      ]
     },
     "metadata": {
      "needs_background": "light"
     },
     "output_type": "display_data"
    }
   ],
   "source": [
    "# place, date, lat and long with earthquake probability for next 7 days\n",
    "for i in range(0,7):\n",
    "    live_set_tmp = live_set[live_set['date'] == days[i]]\n",
    "    plt.scatter(live_set_tmp['longitude'], live_set_tmp['latitude'], s=(live_set_tmp['quake'] * 100))\n",
    "    plt.suptitle('Future Earthquakes for ' + days[i])\n",
    "    plt.xlabel('Longitude')\n",
    "    plt.ylabel('Latitude')\n",
    "    plt.grid()  \n",
    "    plt.show()"
   ]
  },
  {
   "cell_type": "code",
   "execution_count": null,
   "id": "662b94a5",
   "metadata": {},
   "outputs": [],
   "source": []
  }
 ],
 "metadata": {
  "kernelspec": {
   "display_name": "Python 3 (ipykernel)",
   "language": "python",
   "name": "python3"
  },
  "language_info": {
   "codemirror_mode": {
    "name": "ipython",
    "version": 3
   },
   "file_extension": ".py",
   "mimetype": "text/x-python",
   "name": "python",
   "nbconvert_exporter": "python",
   "pygments_lexer": "ipython3",
   "version": "3.9.12"
  }
 },
 "nbformat": 4,
 "nbformat_minor": 5
}
